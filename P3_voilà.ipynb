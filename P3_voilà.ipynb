{
 "cells": [
  {
   "cell_type": "code",
   "execution_count": null,
   "id": "c9d7b69b",
   "metadata": {},
   "outputs": [],
   "source": [
    "# On importe les librairies dont on a besoin\n",
    "import requests\n",
    "import pandas as pd\n",
    "import numpy as np\n",
    "import matplotlib.pyplot as plt\n",
    "import seaborn as sns\n",
    "from zipfile import ZipFile\n",
    "from __future__ import print_function\n",
    "import ipywidgets as widgets\n",
    "from IPython.display import display, clear_output\n",
    "from sklearn import decomposition\n",
    "from sklearn import preprocessing"
   ]
  },
  {
   "cell_type": "code",
   "execution_count": null,
   "id": "868c1655",
   "metadata": {},
   "outputs": [],
   "source": [
    "# On importe le fichier csv depuis l'url\n",
    "\n",
    "#Téléchargement de l'archive depuis l'adresse web\n",
    "#request = requests.get(\"https://s3-eu-west-1.amazonaws.com/static.oc-static.com/prod/courses/files/parcours-data-scientist/P2/fr.openfoodfacts.org.products.csv.zip\")\n",
    "# on décompresse le fichier\n",
    "#zippedData = request.content\n",
    "#output = open(\"data\",'wb')\n",
    "#output.write(zippedData)\n",
    "#output.close()\n",
    "#with ZipFile(\"data\", 'r') as zip:\n",
    "#    zip.printdir()\n",
    "#    zip.extractall()\n",
    "\n",
    "# on charge le fichier dans un dataFrame\n",
    "data = pd.read_csv(\"fr.openfoodfacts.org.products.csv\", sep='\\t', decimal=\".\", low_memory=False)"
   ]
  },
  {
   "cell_type": "code",
   "execution_count": null,
   "id": "790d1105",
   "metadata": {},
   "outputs": [],
   "source": [
    "def categorie_onclick(ma_value):\n",
    "    plt.figure(figsize=(5, 5))\n",
    "    sns.countplot(y=\"main_category_fr\", hue=\"nutrition-letter-fr_100g\",hue_order=[\"A\", \"B\",\"C\",\"D\",\"E\"], data=data_fr[data_fr['main_category_fr']==ma_value], palette=nutri_color_dict);\n",
    "\n",
    "categorie_select = widgets.Select(\n",
    "    options=data_fr['main_category_fr'].value_counts().index,\n",
    "    value='Conserves',\n",
    "    # rows=10,\n",
    "    description='Catégorie:',\n",
    "    disabled=False\n",
    ")\n",
    "display(categorie_select)\n",
    "\n",
    "def on_change(change):\n",
    "    if change['name'] == 'value' and (change['new'] != change['old']):\n",
    "        clear_output()\n",
    "        display(categorie_select)\n",
    "        plt.figure(figsize=(5, 5))\n",
    "        histo_cat_nutri = sns.countplot(y=\"main_category_fr\", hue=\"nutrition-letter-fr_100g\",hue_order=[\"A\", \"B\",\"C\",\"D\",\"E\"], data=data_fr[data_fr['main_category_fr']==change['new']], palette=nutri_color_dict)\n",
    "        histo_cat_nutri.set_ylabel('Catégories', fontsize = 15)\n",
    "        histo_cat_nutri.set_xlabel('Nombre de produits', fontsize = 15)\n",
    "        histo_cat_nutri.set_title('Répartition du nutriscore par catégories', fontsize = 20)\n",
    "\n",
    "categorie_onclick('Conserves')\n",
    "categorie_select.observe(on_change)"
   ]
  }
 ],
 "metadata": {
  "kernelspec": {
   "display_name": "Python 3 (ipykernel)",
   "language": "python",
   "name": "python3"
  },
  "language_info": {
   "codemirror_mode": {
    "name": "ipython",
    "version": 3
   },
   "file_extension": ".py",
   "mimetype": "text/x-python",
   "name": "python",
   "nbconvert_exporter": "python",
   "pygments_lexer": "ipython3",
   "version": "3.8.11"
  }
 },
 "nbformat": 4,
 "nbformat_minor": 5
}
