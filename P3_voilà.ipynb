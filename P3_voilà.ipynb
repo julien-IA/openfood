{
 "cells": [
  {
   "cell_type": "code",
   "execution_count": 1,
   "id": "cd715529",
   "metadata": {},
   "outputs": [],
   "source": [
    "# On importe les librairies dont on a besoin\n",
    "import requests\n",
    "import pandas as pd\n",
    "import numpy as np\n",
    "import matplotlib.pyplot as plt\n",
    "import seaborn as sns\n",
    "from zipfile import ZipFile\n",
    "from __future__ import print_function\n",
    "import ipywidgets as widgets\n",
    "from IPython.display import display, clear_output\n",
    "from sklearn import decomposition\n",
    "from sklearn import preprocessing"
   ]
  },
  {
   "cell_type": "code",
   "execution_count": 2,
   "id": "eca3803d",
   "metadata": {},
   "outputs": [],
   "source": [
    "# Fonction qui renvoie une liste de couleur à partir du dataFrame, de la colonne à traiter\n",
    "# et d'un dictionnaire contenant les valeurs et les couleurs à appliquer\n",
    "#Ex: Utilisé pour visualiser le nutriscore par couleur\n",
    "def pltcolor(unDataFrame, uneVariable, unDict):\n",
    "    cols=[]\n",
    "    for uneCategorie in unDataFrame[uneVariable]:\n",
    "        if uneVariable == 'nutrition-score-fr_100g':\n",
    "            cols.append(unDict[getNutriscore(uneCategorie)])\n",
    "        else:\n",
    "            cols.append(unDict[uneCategorie])\n",
    "    return cols"
   ]
  },
  {
   "cell_type": "code",
   "execution_count": 3,
   "id": "2112e3b7",
   "metadata": {},
   "outputs": [],
   "source": [
    "# on charge le fichier dans un dataFrame\n",
    "data = pd.read_csv(\"fr.openfoodfacts.org.products.nettoye.csv\",decimal=\".\", low_memory=False)"
   ]
  },
  {
   "cell_type": "code",
   "execution_count": 4,
   "id": "b762e11d",
   "metadata": {},
   "outputs": [],
   "source": [
    "# dictionnaire lettre/couleur pour le nutriscore\n",
    "nutri_color_dict = {}\n",
    "nutri_color_dict['A'] = 'darkgreen'\n",
    "nutri_color_dict['B'] = 'limegreen'\n",
    "nutri_color_dict['C'] = 'yellow'\n",
    "nutri_color_dict['D'] = 'orange'\n",
    "nutri_color_dict['E'] = 'red'"
   ]
  },
  {
   "cell_type": "markdown",
   "id": "b147a9ca",
   "metadata": {},
   "source": [
    "Mettre le camembert avec la répartition des produits par pays : au survol nombre de produits ou fair eun histogramme poru afficher plus de pays.\n",
    "selecteur du pays\n",
    "afficher le nutriscore par catégorie\n",
    "afficher le nutriscore par marque\n",
    "projeter les produits sur les 2 axes de l'acp\n",
    "filtrer sur un produit en particulier ?\n",
    "zoomer sur le nuage de point de l'acp ?"
   ]
  },
  {
   "cell_type": "markdown",
   "id": "7e75f4f9",
   "metadata": {},
   "source": [
    "# Répartition du nutriscore en fonction du pays et de la catégorie"
   ]
  },
  {
   "cell_type": "code",
   "execution_count": 12,
   "id": "c309355f",
   "metadata": {
    "scrolled": false
   },
   "outputs": [
    {
     "data": {
      "application/vnd.jupyter.widget-view+json": {
       "model_id": "bfb78af073f340ee855635c46aaa3f43",
       "version_major": 2,
       "version_minor": 0
      },
      "text/plain": [
       "Output()"
      ]
     },
     "metadata": {},
     "output_type": "display_data"
    },
    {
     "data": {
      "application/vnd.jupyter.widget-view+json": {
       "model_id": "302ac9e26984470999e209247be612ec",
       "version_major": 2,
       "version_minor": 0
      },
      "text/plain": [
       "interactive(children=(Dropdown(description='Pays', options=('États-Unis', 'France', 'Suisse', 'Allemagne', 'Es…"
      ]
     },
     "metadata": {},
     "output_type": "display_data"
    }
   ],
   "source": [
    "nutr_cat_output = widgets.Output()\n",
    "display(nutr_cat_output)\n",
    "\n",
    "def dd_categ(Pays):\n",
    "    dropdown_categ = widgets.Dropdown(\n",
    "    value = 'lundi',\n",
    "    options = ['lundi', 'mardi', 'jeudi', 'vendredi'],\n",
    "    description = 'Liste:'\n",
    "    )\n",
    "\n",
    "def graph_nutriscore_categorie(Catégorie, Pays):\n",
    "    data_filtre = data[data['countries_fr'] == Pays]\n",
    "    plt.figure(figsize=(10, 10))\n",
    "    histo_cat_nutri = sns.countplot(y=\"main_category_fr\", hue=\"nutrition-letter-fr_100g\",hue_order=[\"A\", \"B\",\"C\",\"D\",\"E\"], data=data_filtre[data_filtre['main_category_fr']==Catégorie], palette=nutri_color_dict)\n",
    "    histo_cat_nutri.set_ylabel('Catégories', fontsize = 15)\n",
    "    histo_cat_nutri.set_xlabel('Nombre de produits', fontsize = 15)\n",
    "    histo_cat_nutri.set_title('Répartition du nutriscore par catégories', fontsize = 20)\n",
    "    with nutr_cat_output:\n",
    "        nutr_cat_output.clear_output(True)        \n",
    "        plt.show()\n",
    "\n",
    "widgets.interactive(filtre_liste_cat, Pays = data['countries_fr'].value_counts().index)"
   ]
  },
  {
   "cell_type": "markdown",
   "id": "e3f55c62",
   "metadata": {},
   "source": [
    "# Répartition du nutriscore en fonction du pays et des marques"
   ]
  },
  {
   "cell_type": "code",
   "execution_count": 6,
   "id": "50873dab",
   "metadata": {},
   "outputs": [
    {
     "data": {
      "application/vnd.jupyter.widget-view+json": {
       "model_id": "d4617ee9743e413d8e0e40f72c71f4fc",
       "version_major": 2,
       "version_minor": 0
      },
      "text/plain": [
       "Output()"
      ]
     },
     "metadata": {},
     "output_type": "display_data"
    },
    {
     "data": {
      "application/vnd.jupyter.widget-view+json": {
       "model_id": "9858ce6eb75d49edad953cb5338f1bbc",
       "version_major": 2,
       "version_minor": 0
      },
      "text/plain": [
       "interactive(children=(Dropdown(description='Marque', options=('non renseignée', 'Carrefour', 'Auchan', 'U', 'L…"
      ]
     },
     "metadata": {},
     "output_type": "display_data"
    }
   ],
   "source": [
    "nutr_marque_output = widgets.Output()\n",
    "display(nutr_marque_output)\n",
    "\n",
    "def graph_nutriscore_categorie(Pays, Marque):\n",
    "    data_filtre = data[data['countries_fr'] == Pays]\n",
    "    plt.figure(figsize=(10, 10))\n",
    "    histo_marque_nutri = sns.countplot(y=\"brands\", hue=\"nutrition-letter-fr_100g\",hue_order=[\"A\", \"B\",\"C\",\"D\",\"E\"], data=data_filtre[data_filtre['brands']==Marque], palette=nutri_color_dict)\n",
    "    histo_marque_nutri.set_ylabel('Marques', fontsize = 15)\n",
    "    histo_marque_nutri.set_xlabel('Nombre de produits', fontsize = 15)\n",
    "    histo_marque_nutri.set_title('Répartition du nutriscore par marque', fontsize = 20)\n",
    "    with nutr_marque_output:\n",
    "        nutr_marque_output.clear_output(True)        \n",
    "        plt.show()\n",
    "\n",
    "widgets.interactive(graph_nutriscore_categorie, Pays = data['countries_fr'].value_counts().index,  Marque = data['brands'].value_counts().index)"
   ]
  },
  {
   "cell_type": "markdown",
   "id": "ac1ea395",
   "metadata": {},
   "source": []
  }
 ],
 "metadata": {
  "kernelspec": {
   "display_name": "Python 3 (ipykernel)",
   "language": "python",
   "name": "python3"
  },
  "language_info": {
   "codemirror_mode": {
    "name": "ipython",
    "version": 3
   },
   "file_extension": ".py",
   "mimetype": "text/x-python",
   "name": "python",
   "nbconvert_exporter": "python",
   "pygments_lexer": "ipython3",
   "version": "3.8.11"
  }
 },
 "nbformat": 4,
 "nbformat_minor": 5
}
