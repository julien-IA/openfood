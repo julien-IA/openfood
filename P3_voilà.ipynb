{
 "cells": [
  {
   "cell_type": "markdown",
   "id": "db3c8138",
   "metadata": {},
   "source": [
    "# Découverte des données OpenFoodFacts"
   ]
  },
  {
   "cell_type": "code",
   "execution_count": 1,
   "id": "cd715529",
   "metadata": {},
   "outputs": [],
   "source": [
    "# On importe les librairies dont on a besoin\n",
    "import requests\n",
    "import pandas as pd\n",
    "import numpy as np\n",
    "import matplotlib.pyplot as plt\n",
    "import seaborn as sns\n",
    "from zipfile import ZipFile\n",
    "from __future__ import print_function\n",
    "import ipywidgets as widgets\n",
    "from IPython.display import display, clear_output\n",
    "from sklearn import decomposition\n",
    "from sklearn import preprocessing\n",
    "%matplotlib widget"
   ]
  },
  {
   "cell_type": "code",
   "execution_count": 2,
   "id": "2dd28ee7",
   "metadata": {},
   "outputs": [],
   "source": [
    "# Fonction de projection des valeurs sur le cercle des correlations\n",
    "def display_factorial_planes(X_projected, n_comp, pca, axis_ranks, labels=None, alpha=1, illustrative_var=None, colors=None):\n",
    "    for d1,d2 in axis_ranks:\n",
    "        if d2 < n_comp:\n",
    " \n",
    "            # initialisation de la figure       \n",
    "            #fig = plt.figure()\n",
    "            fig, ax = plt.subplots(1)\n",
    "        \n",
    "            # affichage des points\n",
    "            if illustrative_var is None:\n",
    "                #plt.scatter(X_projected[:, d1], X_projected[:, d2], alpha=alpha, c=colors, s=100)\n",
    "                ax.scatter(X_projected[:, d1], X_projected[:, d2], alpha=alpha, c=colors, s=100)\n",
    "            else:\n",
    "                illustrative_var = np.array(illustrative_var)\n",
    "                for value in np.unique(illustrative_var):\n",
    "                    selected = np.where(illustrative_var == value)\n",
    "                    if colors != None : \n",
    "                        color = colors[selected]\n",
    "                    else :\n",
    "                        color = 'blue'\n",
    "                    #plt.scatter(X_projected[selected, d1], X_projected[selected, d2], alpha=alpha, label=value, c=color, s=100)\n",
    "                    ax.scatter(X_projected[selected, d1], X_projected[selected, d2], alpha=alpha, label=value, c=color, s=100)\n",
    "                plt.legend()\n",
    "\n",
    "            # affichage des labels des points\n",
    "            if labels is not None:\n",
    "                for i,(x,y) in enumerate(X_projected[:,[d1,d2]]):\n",
    "                    plt.text(x, y, labels[i],\n",
    "                              fontsize='14', ha='center',va='center') \n",
    "                \n",
    "            # détermination des limites du graphique\n",
    "            boundary = np.max(np.abs(X_projected[:, [d1,d2]])) * 1.3\n",
    "            plt.xlim([-boundary,boundary])\n",
    "            plt.ylim([-boundary,boundary])\n",
    "        \n",
    "            # affichage des lignes horizontales et verticales\n",
    "            plt.plot([-100, 100], [0, 0], color='grey', ls='--')\n",
    "            plt.plot([0, 0], [-100, 100], color='grey', ls='--')\n",
    "\n",
    "            # nom des axes, avec le pourcentage d'inertie expliqué            \n",
    "            plt.xlabel('Richesse nutritive du produit')\n",
    "            plt.ylabel('Transformation industrielle')\n",
    "\n",
    "            plt.title('Richesse nutritionnelle / transformation industrielle.')          \n",
    "            \n",
    "            plt.show(block=False)"
   ]
  },
  {
   "cell_type": "code",
   "execution_count": 3,
   "id": "eca3803d",
   "metadata": {},
   "outputs": [],
   "source": [
    "# Fonction qui renvoie une liste de couleur à partir du dataFrame, de la colonne à traiter\n",
    "# et d'un dictionnaire contenant les valeurs et les couleurs à appliquer\n",
    "#Ex: Utilisé pour visualiser le nutriscore par couleur\n",
    "def pltcolor(unDataFrame, uneVariable, unDict):\n",
    "    cols=[]\n",
    "    for uneCategorie in unDataFrame[uneVariable]:\n",
    "        if uneVariable == 'nutrition-score-fr_100g':\n",
    "            cols.append(unDict[getNutriscore(uneCategorie)])\n",
    "        else:\n",
    "            cols.append(unDict[uneCategorie])\n",
    "    return cols"
   ]
  },
  {
   "cell_type": "code",
   "execution_count": 4,
   "id": "2112e3b7",
   "metadata": {},
   "outputs": [],
   "source": [
    "# on charge le fichier dans un dataFrame\n",
    "data = pd.read_csv(\"fr.openfoodfacts.org.products.nettoye.knn.csv\",decimal=\".\", low_memory=False)"
   ]
  },
  {
   "cell_type": "code",
   "execution_count": 5,
   "id": "b762e11d",
   "metadata": {},
   "outputs": [],
   "source": [
    "# dictionnaire lettre/couleur pour le nutriscore\n",
    "nutri_color_dict = {}\n",
    "nutri_color_dict['A'] = 'darkgreen'\n",
    "nutri_color_dict['B'] = 'limegreen'\n",
    "nutri_color_dict['C'] = 'yellow'\n",
    "nutri_color_dict['D'] = 'orange'\n",
    "nutri_color_dict['E'] = 'red'"
   ]
  },
  {
   "cell_type": "code",
   "execution_count": 6,
   "id": "6605aff1",
   "metadata": {},
   "outputs": [],
   "source": [
    "# fonction qui renvoie le nutriscore sous forme de lettre à partir de la note chiffrée\n",
    "\n",
    "def getNutriscore(valeur):\n",
    "    if valeur >= -15  and valeur <=-2:\n",
    "        return \"A\"\n",
    "    elif valeur >= -1 and valeur <= 3:\n",
    "        return \"B\"\n",
    "    elif valeur >= 4 and valeur <= 11:\n",
    "        return \"C\"\n",
    "    elif valeur >= 12 and valeur <= 16:\n",
    "        return \"D\"\n",
    "    elif valeur >= 17 and valeur <= 40:\n",
    "        return \"E\""
   ]
  },
  {
   "cell_type": "markdown",
   "id": "7e75f4f9",
   "metadata": {},
   "source": [
    "## Répartition du nutriscore en fonction du pays et de la catégorie"
   ]
  },
  {
   "cell_type": "code",
   "execution_count": 7,
   "id": "c309355f",
   "metadata": {
    "scrolled": false
   },
   "outputs": [
    {
     "data": {
      "application/vnd.jupyter.widget-view+json": {
       "model_id": "9d56c9a85d534d8ca10ea38eadc979f3",
       "version_major": 2,
       "version_minor": 0
      },
      "text/plain": [
       "interactive(children=(Output(),), _dom_classes=('widget-interact',))"
      ]
     },
     "metadata": {},
     "output_type": "display_data"
    },
    {
     "data": {
      "application/vnd.jupyter.widget-view+json": {
       "model_id": "e0fd213d592b42c09d86c4175f790520",
       "version_major": 2,
       "version_minor": 0
      },
      "text/plain": [
       "VBox(children=(Dropdown(description='Liste des pays:', index=240, options=('Afrique du Sud', 'Albanie,Danemark…"
      ]
     },
     "metadata": {},
     "output_type": "display_data"
    }
   ],
   "source": [
    "def graph_nutriscore_categorie(*args):\n",
    "    if dropdown_categ.value == None :\n",
    "        update_cat(dropdown_pays)\n",
    "    data_filtre = data[data['countries_fr'] == dropdown_pays.value]\n",
    "\n",
    "    with nutr_cat_output:\n",
    "        nutr_cat_output.clear_output(True)\n",
    "        fig = plt.figure(figsize=(8,8))\n",
    "        histo_cat_nutri = sns.countplot(y=\"main_category_fr\", \\\n",
    "                                        hue=\"nutrition-letter-fr_100g\",\\\n",
    "                                        hue_order=[\"A\", \"B\",\"C\",\"D\",\"E\"],\\\n",
    "                                        data=data_filtre[data_filtre['main_category_fr']==dropdown_categ.value], \\\n",
    "                                        palette=nutri_color_dict)\n",
    "        histo_cat_nutri.set_ylabel('Catégories', fontsize = 15)\n",
    "        histo_cat_nutri.set_xlabel('Nombre de produits', fontsize = 15)\n",
    "        histo_cat_nutri.set_title('Répartition du nutriscore par catégorie', fontsize = 20)        \n",
    "        plt.yticks(rotation=90)\n",
    "        plt.show()\n",
    "        \n",
    "dropdown_pays = widgets.Dropdown(\n",
    "    value='France',\n",
    "    options = data['countries_fr'].value_counts().index.sort_values(),\n",
    "    description = 'Liste des pays:',\n",
    "    style = {'description_width': 'initial'}\n",
    "    )\n",
    "\n",
    "dropdown_categ = widgets.Dropdown(\n",
    "    description = 'Liste des catégories:',\n",
    "    style = {'description_width': 'initial'}\n",
    "    )\n",
    "\n",
    "def update_cat(*args):    \n",
    "    data_pays = data[data['countries_fr'] == dropdown_pays.value]\n",
    "    dropdown_categ.options = data_pays['main_category_fr'].value_counts().index.sort_values()\n",
    "    dropdown_categ.value = dropdown_categ.options[0]\n",
    "    graph_nutriscore_categorie(dropdown_categ,dropdown_pays)\n",
    "\n",
    "dropdown_pays.observe(update_cat, 'value')\n",
    "dropdown_categ.observe(graph_nutriscore_categorie, 'value')\n",
    "\n",
    "nutr_cat_output = widgets.Output()\n",
    "\n",
    "widgets.interact(graph_nutriscore_categorie, Pays = dropdown_pays, Catégorie = dropdown_categ)\n",
    "widgets.VBox(\n",
    "    [\n",
    "        dropdown_pays,\n",
    "        dropdown_categ, \n",
    "        nutr_cat_output\n",
    "    ]\n",
    ")\n",
    "\n",
    "\n",
    "\n"
   ]
  },
  {
   "cell_type": "markdown",
   "id": "cad45a2c",
   "metadata": {},
   "source": [
    "## Répartition du nutriscore en fonction du pays et des marques"
   ]
  },
  {
   "cell_type": "code",
   "execution_count": 8,
   "id": "21a01d29",
   "metadata": {},
   "outputs": [
    {
     "data": {
      "application/vnd.jupyter.widget-view+json": {
       "model_id": "8bbda62e114042dba6d97725879969f2",
       "version_major": 2,
       "version_minor": 0
      },
      "text/plain": [
       "interactive(children=(Output(),), _dom_classes=('widget-interact',))"
      ]
     },
     "metadata": {},
     "output_type": "display_data"
    },
    {
     "data": {
      "application/vnd.jupyter.widget-view+json": {
       "model_id": "8a7405afeff2410c8f57c3f9943bb0a8",
       "version_major": 2,
       "version_minor": 0
      },
      "text/plain": [
       "VBox(children=(Dropdown(description='Liste des pays:', index=240, options=('Afrique du Sud', 'Albanie,Danemark…"
      ]
     },
     "metadata": {},
     "output_type": "display_data"
    }
   ],
   "source": [
    "def graph_nutriscore_marque(*args):\n",
    "    if dropdown_marque.value == None :\n",
    "        update_marque(dropdown_pays_mq)\n",
    "    data_filtre = data[data['countries_fr'] == dropdown_pays_mq.value]\n",
    "    \n",
    "    with nutr_marque_output:\n",
    "        nutr_marque_output.clear_output(True)\n",
    "        plt.figure(figsize=(8, 8))\n",
    "        histo_marque_nutri = sns.countplot(y=\"brands\", hue=\"nutrition-letter-fr_100g\",\\\n",
    "                                           hue_order=[\"A\", \"B\",\"C\",\"D\",\"E\"], \\\n",
    "                                           data=data_filtre[data_filtre['brands']==dropdown_marque.value], \\\n",
    "                                           palette=nutri_color_dict)\n",
    "        histo_marque_nutri.set_ylabel('Marques', fontsize = 15)\n",
    "        histo_marque_nutri.set_xlabel('Nombre de produits', fontsize = 15)\n",
    "        histo_marque_nutri.set_title('Répartition du nutriscore par marque', fontsize = 20)\n",
    "        plt.yticks(rotation=90)\n",
    "        plt.show()\n",
    "\n",
    "dropdown_pays_mq = widgets.Dropdown(\n",
    "    value='France',\n",
    "    options = data['countries_fr'].value_counts().index.sort_values(),\n",
    "    description = 'Liste des pays:',\n",
    "    style = {'description_width': 'initial'}\n",
    "    )\n",
    "\n",
    "dropdown_marque = widgets.Dropdown(\n",
    "    description = 'Liste des marques:',\n",
    "    style = {'description_width': 'initial'}\n",
    "    )\n",
    "\n",
    "def update_marque(*args):\n",
    "    data_pays = data[data['countries_fr'] == dropdown_pays_mq.value]\n",
    "    dropdown_marque.options = data_pays['brands'].value_counts().index.sort_values()\n",
    "    dropdown_marque.value = dropdown_marque.options[0]\n",
    "    graph_nutriscore_marque(dropdown_marque,dropdown_pays_mq)\n",
    "\n",
    "nutr_marque_output = widgets.Output()\n",
    "dropdown_pays_mq.observe(update_marque, 'value')\n",
    "dropdown_marque.observe(graph_nutriscore_marque, 'value')\n",
    "\n",
    "widgets.interact(graph_nutriscore_marque, Pays = dropdown_pays_mq, Marques = dropdown_marque)\n",
    "widgets.VBox(\n",
    "    [\n",
    "        dropdown_pays_mq,\n",
    "        dropdown_marque, \n",
    "        nutr_marque_output\n",
    "    ]\n",
    ")\n"
   ]
  },
  {
   "cell_type": "code",
   "execution_count": 9,
   "id": "d0346379",
   "metadata": {},
   "outputs": [],
   "source": [
    "# ACP\n",
    "data_fr = data[data['countries_fr'] == 'France']\n",
    "data_pca = data_fr[[\"proteins_100g\",\"salt_100g\",\\\n",
    "                    \"fat_100g\",\"carbohydrates_100g\",\"fiber_100g\",\\\n",
    "                   \"additives_n\",\"nb_ingredients\",'energy_100g']]\n",
    "\n",
    "X = data_pca.values\n",
    "names = data_pca.index\n",
    "features = data_pca.columns"
   ]
  },
  {
   "cell_type": "code",
   "execution_count": 10,
   "id": "58c38579",
   "metadata": {},
   "outputs": [],
   "source": [
    "# centrage et réduction\n",
    "std_scale = preprocessing.StandardScaler().fit(X)\n",
    "X_scaled = std_scale.transform(X)"
   ]
  },
  {
   "cell_type": "code",
   "execution_count": 11,
   "id": "5d786865",
   "metadata": {},
   "outputs": [
    {
     "data": {
      "text/plain": [
       "PCA(n_components=8)"
      ]
     },
     "execution_count": 11,
     "metadata": {},
     "output_type": "execute_result"
    }
   ],
   "source": [
    "# Calcul des composantes principales\n",
    "nb_var = 8\n",
    "pca = decomposition.PCA(n_components=nb_var)\n",
    "pca.fit(X_scaled)"
   ]
  },
  {
   "cell_type": "markdown",
   "id": "0bccf05a",
   "metadata": {},
   "source": [
    "## Projection des produits sur les axes richesse nutritive / transformation industrielle"
   ]
  },
  {
   "cell_type": "code",
   "execution_count": 12,
   "id": "dcad9020",
   "metadata": {
    "scrolled": false
   },
   "outputs": [
    {
     "data": {
      "application/vnd.jupyter.widget-view+json": {
       "model_id": "531b40d44a26467db8163e28be2b6af0",
       "version_major": 2,
       "version_minor": 0
      },
      "text/plain": [
       "Output()"
      ]
     },
     "metadata": {},
     "output_type": "display_data"
    },
    {
     "data": {
      "application/vnd.jupyter.widget-view+json": {
       "model_id": "9e3e24149b0341a38678d7cc9b402338",
       "version_major": 2,
       "version_minor": 0
      },
      "text/plain": [
       "Dropdown(description='Liste des pays:', index=1, options=('États-Unis', 'France', 'Suisse', 'Allemagne', 'Espa…"
      ]
     },
     "metadata": {},
     "output_type": "display_data"
    },
    {
     "data": {
      "application/vnd.jupyter.widget-view+json": {
       "model_id": "0edb555fb3024c7486d3549a6b6968ab",
       "version_major": 2,
       "version_minor": 0
      },
      "text/plain": [
       "Dropdown(description='Liste des catégories:', options=(), style=DescriptionStyle(description_width='initial'),…"
      ]
     },
     "metadata": {},
     "output_type": "display_data"
    },
    {
     "data": {
      "application/vnd.jupyter.widget-view+json": {
       "model_id": "5900af7a1e2444d1ae33ef38e8c6d28e",
       "version_major": 2,
       "version_minor": 0
      },
      "text/plain": [
       "Dropdown(description='Liste des produits:', options=(), style=DescriptionStyle(description_width='initial'), v…"
      ]
     },
     "metadata": {},
     "output_type": "display_data"
    }
   ],
   "source": [
    "\n",
    "def graph_ACP(*args):\n",
    "    if dropdown_categ_1.value == None :\n",
    "        update_categ(dropdown_pays)\n",
    "    if dropdown_produit_1.value == None :\n",
    "        update_prod(dropdown_categ_1)    \n",
    "    with nutr_marque_output_1:\n",
    "        nutr_marque_output_1.clear_output(True)   \n",
    "        data_pays = data[data['countries_fr'] == dropdown_pays_1.value]\n",
    "        data_pays_categ = data_pays[data_pays['main_category_fr'] == dropdown_categ_1.value]\n",
    "        data_pays_categ_prod = data_pays_categ[data_pays_categ['product_name'] == dropdown_produit_1.value]\n",
    "        data_pays_categ_prod_filtre = data_pays_categ_prod[[\"proteins_100g\",\"salt_100g\",\\\n",
    "                                                            \"fat_100g\",\"carbohydrates_100g\",\"fiber_100g\",\\\n",
    "                                                            \"additives_n\",\"nb_ingredients\", 'energy_100g']]\n",
    "        \n",
    "        X_filtree = data_pays_categ_prod_filtre.values\n",
    "        names_filtree = data_pays_categ_prod['brands'].values\n",
    "        features_filtree = data_pays_categ_prod_filtre.columns\n",
    "        std_scale_filtree = preprocessing.StandardScaler().fit(X_filtree)\n",
    "        X_scaled_filtree = std_scale.transform(X_filtree)\n",
    "        X_projected_filtree = pca.transform(X_scaled_filtree)\n",
    "\n",
    "        display_factorial_planes(X_projected_filtree, nb_var, pca, [(0,1)], labels = np.array(names_filtree),\\\n",
    "                             illustrative_var = np.array(data_pays_categ_prod['product_name'].values))\n",
    "\n",
    "nutr_marque_output_1 = widgets.Output()\n",
    "\n",
    "dropdown_pays_1 = widgets.Dropdown(\n",
    "    value = 'France',\n",
    "    options = data['countries_fr'].value_counts().index,\n",
    "    description = 'Liste des pays:',\n",
    "    style = {'description_width': 'initial'}\n",
    "    )\n",
    "\n",
    "dropdown_categ_1 = widgets.Dropdown(\n",
    "    description = 'Liste des catégories:',\n",
    "    style = {'description_width': 'initial'}\n",
    "    )\n",
    "\n",
    "dropdown_produit_1 = widgets.Dropdown(\n",
    "    description = 'Liste des produits:',\n",
    "    style = {'description_width': 'initial'}\n",
    "    )\n",
    "\n",
    "display(nutr_marque_output_1, dropdown_pays_1, dropdown_categ_1, dropdown_produit_1)\n",
    "\n",
    "def update_categ(*args):\n",
    "    data_pays = data[data['countries_fr'] == dropdown_pays_1.value]\n",
    "    dropdown_categ_1.options = data_pays['main_category_fr'].value_counts().index.sort_values()\n",
    "    dropdown_categ_1.value = dropdown_categ_1.options[0]\n",
    "    update_prod(dropdown_categ_1)\n",
    "    \n",
    "def update_prod(*args):\n",
    "    data_pays = data[data['countries_fr'] == dropdown_pays_1.value]\n",
    "    data_pays_categ = data_pays[data_pays['main_category_fr'] == dropdown_categ_1.value]\n",
    "    dropdown_produit_1.options = data_pays_categ['product_name'].value_counts().index\n",
    "    dropdown_produit_1.value = dropdown_produit_1.options[0]\n",
    "    \n",
    "def update_graph(*args):\n",
    "    graph_ACP(dropdown_produit_1,dropdown_categ_1,dropdown_pays_1)\n",
    "\n",
    "dropdown_pays_1.observe(update_categ, 'value')\n",
    "dropdown_categ_1.observe(update_prod, 'value')\n",
    "dropdown_produit_1.observe(update_graph, 'value')\n",
    "\n",
    "update_categ(dropdown_pays_1)\n"
   ]
  }
 ],
 "metadata": {
  "kernelspec": {
   "display_name": "Python 3 (ipykernel)",
   "language": "python",
   "name": "python3"
  },
  "language_info": {
   "codemirror_mode": {
    "name": "ipython",
    "version": 3
   },
   "file_extension": ".py",
   "mimetype": "text/x-python",
   "name": "python",
   "nbconvert_exporter": "python",
   "pygments_lexer": "ipython3",
   "version": "3.8.11"
  }
 },
 "nbformat": 4,
 "nbformat_minor": 5
}
