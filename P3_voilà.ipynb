{
 "cells": [
  {
   "cell_type": "code",
   "execution_count": 2,
   "id": "79871595",
   "metadata": {},
   "outputs": [],
   "source": [
    "# On importe les librairies dont on a besoin\n",
    "import requests\n",
    "import pandas as pd\n",
    "import numpy as np\n",
    "import matplotlib.pyplot as plt\n",
    "import seaborn as sns\n",
    "from zipfile import ZipFile\n",
    "from __future__ import print_function\n",
    "import ipywidgets as widgets\n",
    "from IPython.display import display, clear_output\n",
    "from sklearn import decomposition\n",
    "from sklearn import preprocessing"
   ]
  },
  {
   "cell_type": "code",
   "execution_count": null,
   "id": "03f7d24a",
   "metadata": {},
   "outputs": [],
   "source": [
    "# Fonction qui renvoie une liste de couleur à partir du dataFrame, de la colonne à traiter\n",
    "# et d'un dictionnaire contenant les valeurs et les couleurs à appliquer\n",
    "#Ex: Utilisé pour visualiser le nutriscore par couleur\n",
    "def pltcolor(unDataFrame, uneVariable, unDict):\n",
    "    cols=[]\n",
    "    for uneCategorie in unDataFrame[uneVariable]:\n",
    "        if uneVariable == 'nutrition-score-fr_100g':\n",
    "            cols.append(unDict[getNutriscore(uneCategorie)])\n",
    "        else:\n",
    "            cols.append(unDict[uneCategorie])\n",
    "    return cols"
   ]
  },
  {
   "cell_type": "code",
   "execution_count": 10,
   "id": "e46f7624",
   "metadata": {},
   "outputs": [],
   "source": [
    "# on charge le fichier dans un dataFrame\n",
    "data = pd.read_csv(\"fr.openfoodfacts.org.products.nettoye.csv\",decimal=\".\", low_memory=False)"
   ]
  },
  {
   "cell_type": "code",
   "execution_count": 12,
   "id": "b8703486",
   "metadata": {},
   "outputs": [],
   "source": [
    "# dictionnaire lettre/couleur pour le nutriscore\n",
    "nutri_color_dict = {}\n",
    "nutri_color_dict['A'] = 'darkgreen'\n",
    "nutri_color_dict['B'] = 'limegreen'\n",
    "nutri_color_dict['C'] = 'yellow'\n",
    "nutri_color_dict['D'] = 'orange'\n",
    "nutri_color_dict['E'] = 'red'"
   ]
  },
  {
   "cell_type": "markdown",
   "id": "2437ee4c",
   "metadata": {},
   "source": [
    "Mettre le camembert avec la répartition des produits par pays : au survol nombre de produits ou fair eun histogramme poru afficher plus de pays.\n",
    "selecteur du pays\n",
    "afficher le nutriscore par catégorie\n",
    "afficher le nutriscore par marque\n",
    "projeter les produits sur les 2 axes de l'acp\n",
    "filtrer sur un produit en particulier ?\n",
    "zoomer sur le nuage de point de l'acp ?"
   ]
  },
  {
   "cell_type": "code",
   "execution_count": 13,
   "id": "5f3dd0ea",
   "metadata": {},
   "outputs": [
    {
     "data": {
      "application/vnd.jupyter.widget-view+json": {
       "model_id": "52dc4a71f445474a95d920d926506c9b",
       "version_major": 2,
       "version_minor": 0
      },
      "text/plain": [
       "Select(description='Catégorie:', index=6, options=('non renseignée', 'Chocolats', 'Aliments et boissons à base…"
      ]
     },
     "metadata": {},
     "output_type": "display_data"
    },
    {
     "data": {
      "image/png": "[encoded data removed]",
      "text/plain": [
       "<Figure size 360x360 with 1 Axes>"
      ]
     },
     "metadata": {
      "needs_background": "light"
     },
     "output_type": "display_data"
    }
   ],
   "source": [
    "def categorie_onclick(ma_value):\n",
    "    plt.figure(figsize=(5, 5))\n",
    "    sns.countplot(y=\"main_category_fr\", hue=\"nutrition-letter-fr_100g\",hue_order=[\"A\", \"B\",\"C\",\"D\",\"E\"], data=data[data['main_category_fr']==ma_value], palette=nutri_color_dict);\n",
    "\n",
    "categorie_select = widgets.Select(\n",
    "    options=data['main_category_fr'].value_counts().index,\n",
    "    value='Conserves',\n",
    "    # rows=10,\n",
    "    description='Catégorie:',\n",
    "    disabled=False\n",
    ")\n",
    "display(categorie_select)\n",
    "\n",
    "def on_change(change):\n",
    "    if change['name'] == 'value' and (change['new'] != change['old']):\n",
    "        clear_output()\n",
    "        display(categorie_select)\n",
    "        plt.figure(figsize=(5, 5))\n",
    "        histo_cat_nutri = sns.countplot(y=\"main_category_fr\", hue=\"nutrition-letter-fr_100g\",hue_order=[\"A\", \"B\",\"C\",\"D\",\"E\"], data=data[data['main_category_fr']==change['new']], palette=nutri_color_dict)\n",
    "        histo_cat_nutri.set_ylabel('Catégories', fontsize = 15)\n",
    "        histo_cat_nutri.set_xlabel('Nombre de produits', fontsize = 15)\n",
    "        histo_cat_nutri.set_title('Répartition du nutriscore par catégories', fontsize = 20)\n",
    "\n",
    "categorie_onclick('Conserves')\n",
    "categorie_select.observe(on_change)"
   ]
  },
  {
   "cell_type": "code",
   "execution_count": null,
   "id": "94c3b6b6",
   "metadata": {},
   "outputs": [],
   "source": []
  }
 ],
 "metadata": {
  "kernelspec": {
   "display_name": "Python 3 (ipykernel)",
   "language": "python",
   "name": "python3"
  },
  "language_info": {
   "codemirror_mode": {
    "name": "ipython",
    "version": 3
   },
   "file_extension": ".py",
   "mimetype": "text/x-python",
   "name": "python",
   "nbconvert_exporter": "python",
   "pygments_lexer": "ipython3",
   "version": "3.8.11"
  }
 },
 "nbformat": 4,
 "nbformat_minor": 5
}
